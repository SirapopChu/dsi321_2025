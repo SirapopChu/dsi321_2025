{
 "cells": [
  {
   "cell_type": "code",
   "execution_count": null,
   "id": "746b5c1f",
   "metadata": {
    "vscode": {
     "languageId": "plaintext"
    }
   },
   "outputs": [],
   "source": [
    "import pandas as pd\n",
    "from config.path_config import lakefs_s3_path, storage_options"
   ]
  },
  {
   "cell_type": "code",
   "execution_count": null,
   "id": "be7c69d0",
   "metadata": {
    "vscode": {
     "languageId": "plaintext"
    }
   },
   "outputs": [],
   "source": [
    "data = pd.read_parquet(\n",
    "    lakefs_s3_path,\n",
    "    storage_options=storage_options,\n",
    "    engine='pyarrow',\n",
    ")\n",
    "\n",
    "data.head()"
   ]
  }
 ],
 "metadata": {
  "language_info": {
   "name": "python"
  }
 },
 "nbformat": 4,
 "nbformat_minor": 5
}
